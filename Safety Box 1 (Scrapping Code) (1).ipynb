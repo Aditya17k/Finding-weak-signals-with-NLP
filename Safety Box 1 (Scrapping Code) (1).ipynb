{
 "cells": [
  {
   "cell_type": "code",
   "execution_count": 1,
   "id": "16e51f6f",
   "metadata": {},
   "outputs": [],
   "source": [
    "import praw\n",
    "import json\n",
    "from datetime import datetime\n",
    "import pytz"
   ]
  },
  {
   "cell_type": "code",
   "execution_count": 2,
   "id": "c8596ae5",
   "metadata": {},
   "outputs": [],
   "source": [
    "# Authenticate with Reddit\n",
    "reddit = praw.Reddit(client_id = 'PO72CNBqJevVmb8HupBV_Q', \n",
    "                     client_secret = 'kCBrW2Euk37XJMIeb5ZSa6RGA6t1ZQ', \n",
    "                     user_agent = 'Analyse_it')"
   ]
  },
  {
   "cell_type": "code",
   "execution_count": 3,
   "id": "d75c7b9f",
   "metadata": {},
   "outputs": [],
   "source": [
    "def fetch_comments(comment, comment_list):\n",
    "    # Add the current comment to the list\n",
    "    comment_data = {\n",
    "        \"body\": comment.body,\n",
    "        \"author\": comment.author.name if comment.author else None,\n",
    "        \"created_utc\": comment.created_utc,\n",
    "        \"created_readable\": datetime.utcfromtimestamp(comment.created_utc).strftime(\"%d/%m/%Y %H:%M:%S\"),\n",
    "        \"score\": comment.score,\n",
    "        \"replies\": []\n",
    "    }\n",
    "    comment_list.append(comment_data)\n",
    "\n",
    "    # Recursively retrieve replies to the current comment\n",
    "    for reply in comment.replies:\n",
    "        fetch_comments(reply, comment_data[\"replies\"])"
   ]
  },
  {
   "cell_type": "code",
   "execution_count": 4,
   "id": "78e401cd",
   "metadata": {},
   "outputs": [],
   "source": [
    "def fetch_reddit_data(subreddit_name, start_date, end_date):\n",
    "    subreddit = reddit.subreddit(subreddit_name)\n",
    "\n",
    "    data = []\n",
    "    total_posts = 0  # Initialize the total post count\n",
    "    total_comments = 0  # Initialize the total comment count\n",
    "\n",
    "    for submission in subreddit.new(limit=None):\n",
    "        created_utc = datetime.utcfromtimestamp(submission.created_utc).replace(tzinfo=pytz.utc)\n",
    "        if start_date <= created_utc <= end_date:\n",
    "            post_data = {\n",
    "                \"thread_id\": f\"{created_utc.timestamp()}_{submission.id}\",  # Unique thread ID\n",
    "                \"title\": submission.title,\n",
    "                \"self_text\": submission.selftext,\n",
    "                \"score\": submission.score,\n",
    "                \"author\": submission.author.name if submission.author else None,\n",
    "                \"created_utc\": submission.created_utc,\n",
    "                \"created_readable\": created_utc.strftime(\"%d/%m/%Y %H:%M:%S\"),\n",
    "                \"comments\": []\n",
    "            }\n",
    "            total_posts += 1  # Increment the total post count\n",
    "            submission.comments.replace_more(limit=None)\n",
    "            for top_level_comment in submission.comments:\n",
    "                fetch_comments(top_level_comment, post_data[\"comments\"])\n",
    "                total_comments += 1  # Increment the total comment count\n",
    "            data.append(post_data)\n",
    "\n",
    "    return data, total_posts, total_comments"
   ]
  },
  {
   "cell_type": "code",
   "execution_count": 5,
   "id": "919de708",
   "metadata": {},
   "outputs": [],
   "source": [
    "# Specify the start and end dates as datetime objects with a timezone\n",
    "start_date = pytz.utc.localize(datetime(2023, 9, 16))\n",
    "end_date = pytz.utc.localize(datetime(2023, 10, 16, 23, 59, 59))"
   ]
  },
  {
   "cell_type": "code",
   "execution_count": null,
   "id": "91f8f570",
   "metadata": {},
   "outputs": [],
   "source": [
    "subreddit_name = \"GTAV_Mods\"\n",
    "\n",
    "data, total_posts, total_comments = fetch_reddit_data(subreddit_name, start_date, end_date)\n",
    "\n",
    "# Store the data in a JSON file\n",
    "with open(\"reddit_data_10.json\", \"w\", encoding=\"utf-8\") as json_file:\n",
    "    json.dump(data, json_file, ensure_ascii=False, indent=4)\n",
    "print(f\"Total Posts: {total_posts}\")\n",
    "print(f\"Total Comments: {total_comments}\")"
   ]
  }
 ],
 "metadata": {
  "kernelspec": {
   "display_name": "Python 3 (ipykernel)",
   "language": "python",
   "name": "python3"
  },
  "language_info": {
   "codemirror_mode": {
    "name": "ipython",
    "version": 3
   },
   "file_extension": ".py",
   "mimetype": "text/x-python",
   "name": "python",
   "nbconvert_exporter": "python",
   "pygments_lexer": "ipython3",
   "version": "3.11.4"
  }
 },
 "nbformat": 4,
 "nbformat_minor": 5
}
